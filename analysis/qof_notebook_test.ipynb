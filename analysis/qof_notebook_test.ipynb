{
 "cells": [
  {
   "cell_type": "code",
   "execution_count": 1,
   "metadata": {},
   "outputs": [],
   "source": [
    "# Load pacakges ----\n",
    "import sys\n",
    "import pandas as pd\n",
    "import numpy as np\n",
    "import matplotlib.pyplot as plt\n",
    "import matplotlib.image as mpimg\n",
    "from pandas.plotting import register_matplotlib_converters\n",
    "register_matplotlib_converters()\n",
    "from IPython.display import HTML\n",
    "from IPython.display import Markdown as md\n",
    "from IPython.core.display import HTML as Center\n",
    "from config import marker, qof_measure_marker, start_date, end_date, demographics, codelist_path\n",
    "from IPython.display import Image, display\n",
    "import base64\n",
    "\n",
    "from utilities import *\n",
    "%matplotlib inline\n"
   ]
  },
  {
   "cell_type": "code",
   "execution_count": 2,
   "metadata": {},
   "outputs": [
    {
     "data": {
      "text/markdown": [
       "# Service Restoration Observatory"
      ],
      "text/plain": [
       "<IPython.core.display.Markdown object>"
      ]
     },
     "metadata": {},
     "output_type": "display_data"
    },
    {
     "data": {
      "text/markdown": [
       "## Changes in Asthma register between 2021-09-01 and 2022-01-31"
      ],
      "text/plain": [
       "<IPython.core.display.Markdown object>"
      ]
     },
     "metadata": {},
     "output_type": "display_data"
    },
    {
     "data": {
      "text/markdown": [
       "Below are various time-series graphs showing changes in Asthma register code use."
      ],
      "text/plain": [
       "<IPython.core.display.Markdown object>"
      ]
     },
     "metadata": {},
     "output_type": "display_data"
    }
   ],
   "source": [
    "display(\n",
    "md(\"# Service Restoration Observatory\"),\n",
    "md(f\"## Changes in {marker} between {start_date} and {end_date}\"),\n",
    "md(f\"Below are various time-series graphs showing changes in {marker} code use.\"),\n",
    ")\n"
   ]
  },
  {
   "cell_type": "markdown",
   "metadata": {},
   "source": [
    "# Content\n",
    "\n",
    "<ul id=\"docNav\">\n",
    "\n",
    "<li> <a href=\"#what\">What it is</a>\n",
    "<li> <a href=\"#why\">Why it matters</a>\n",
    "<li> <a href=\"#business_rules\">Business rules</a>\n",
    "    <ul>\n",
    "        <li> <a href=\"#business_rules_bp002\">Indicator BP002</a>\n",
    "            <ul>\n",
    "                 <li> <a href=\"#bp002_denominator\">Denominator</a>\n",
    "                 <li> <a href=\"#bp002_numerator\">Numerator</a>\n",
    "            </ul>\n",
    "    </ul>\n",
    "<li> <a href=\"#methods\">Methods</a>\n",
    "<li> <a href=\"#results\">Results</a>\n",
    "    <ul>\n",
    "        <li> <a href=\"#results_bp002\">Indicator BP002</a>\n",
    "             <ul>\n",
    "                 <li> <a href=\"#results_bp002_total\">Total</a>\n",
    "                 <li> <a href=\"#results_bp002_var_gp\">Variation across GP practices</a>\n",
    "                 <li> <a href=\"#results_bp002_by_sex\">Breakdown by 'sex'</a>\n",
    "                 <li> <a href=\"#results_bp002_by_age_band\">Breakdown by 'age_band'</a>\n",
    "                 <li> <a href=\"#results_bp002_by_region\">Breakdown by 'region'</a>\n",
    "                 <li> <a href=\"#results_bp002_by_imd\">Breakdown by 'imd'</a>\n",
    "                 <li> <a href=\"#results_bp002_by_ethnicity\">Breakdown by 'ethnicity'</a>\n",
    "                 <li> <a href=\"#results_bp002_by_learning_disability\">Breakdown by 'learning_disability'</a>\n",
    "                 <li> <a href=\"#results_bp002_by_care_home_status\">Breakdown by 'care_home_status'</a>\n",
    "            </ul>\n",
    "    </ul>\n",
    "<li> <a href=\"#discussion\">Discussion</a>\n",
    "<li> <a href=\"#references\">References</a>\n",
    "\n",
    "</ul>"
   ]
  }
 ],
 "metadata": {
  "interpreter": {
   "hash": "4aaea25dbf15366aa2882c3191d471c42713d3f4f72243a99f894e718fe46b86"
  },
  "kernelspec": {
   "display_name": "Python 3.10.1 64-bit",
   "language": "python",
   "name": "python3"
  },
  "language_info": {
   "codemirror_mode": {
    "name": "ipython",
    "version": 3
   },
   "file_extension": ".py",
   "mimetype": "text/x-python",
   "name": "python",
   "nbconvert_exporter": "python",
   "pygments_lexer": "ipython3",
   "version": "3.9.7"
  }
 },
 "nbformat": 4,
 "nbformat_minor": 4
}
