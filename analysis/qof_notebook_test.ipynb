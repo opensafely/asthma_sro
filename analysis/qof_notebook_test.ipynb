{
 "cells": [
  {
   "cell_type": "code",
   "execution_count": 1,
   "metadata": {},
   "outputs": [],
   "source": [
    "# Load pacakges ----\n",
    "import sys\n",
    "import pandas as pd\n",
    "import numpy as np\n",
    "import matplotlib.pyplot as plt\n",
    "import matplotlib.image as mpimg\n",
    "from pandas.plotting import register_matplotlib_converters\n",
    "register_matplotlib_converters()\n",
    "from IPython.display import HTML\n",
    "from IPython.display import Markdown as md\n",
    "from IPython.core.display import HTML as Center\n",
    "from config import marker, qof_measure_marker, start_date, end_date, demographics, codelist_path\n",
    "from IPython.display import Image, display\n",
    "import base64\n",
    "\n",
    "from utilities import *\n",
    "%matplotlib inline\n"
   ]
  },
  {
   "cell_type": "code",
   "execution_count": null,
   "metadata": {},
   "outputs": [],
   "source": [
    "display(\n",
    "md(\"# Service Restoration Observatory\"),\n",
    "md(f\"## Changes in {marker} between {start_date} and {end_date}\"),\n",
    "md(f\"Below are various time-series graphs showing changes in {marker} code use.\"),\n",
    ")\n"
   ]
  },
  {
   "cell_type": "markdown",
   "metadata": {},
   "source": [
    "# Content\n",
    "\n",
    "<ul id=\"docNav\">\n",
    "\n",
    "<li> <a href=\"#what\">What it is</a>\n",
    "<li> <a href=\"#why\">Why it matters</a>\n",
    "<li> <a href=\"#business_rules\">Business rules</a>\n",
    "    <ul>\n",
    "        <li> <a href=\"#business_rules_bp002\">Indicator BP002</a>\n",
    "            <ul>\n",
    "                 <li> <a href=\"#bp002_denominator\">Denominator</a>\n",
    "                 <li> <a href=\"#bp002_numerator\">Numerator</a>\n",
    "            </ul>\n",
    "    </ul>\n",
    "<li> <a href=\"#methods\">Methods</a>\n",
    "<li> <a href=\"#results\">Results</a>\n",
    "    <ul>\n",
    "        <li> <a href=\"#results_bp002\">Indicator BP002</a>\n",
    "             <ul>\n",
    "                 <li> <a href=\"#results_bp002_total\">Total</a>\n",
    "                 <li> <a href=\"#results_bp002_var_gp\">Variation across GP practices</a>\n",
    "                 <li> <a href=\"#results_bp002_by_sex\">Breakdown by 'sex'</a>\n",
    "                 <li> <a href=\"#results_bp002_by_age_band\">Breakdown by 'age_band'</a>\n",
    "                 <li> <a href=\"#results_bp002_by_region\">Breakdown by 'region'</a>\n",
    "                 <li> <a href=\"#results_bp002_by_imd\">Breakdown by 'imd'</a>\n",
    "                 <li> <a href=\"#results_bp002_by_ethnicity\">Breakdown by 'ethnicity'</a>\n",
    "                 <li> <a href=\"#results_bp002_by_learning_disability\">Breakdown by 'learning_disability'</a>\n",
    "                 <li> <a href=\"#results_bp002_by_care_home_status\">Breakdown by 'care_home_status'</a>\n",
    "            </ul>\n",
    "    </ul>\n",
    "<li> <a href=\"#discussion\">Discussion</a>\n",
    "<li> <a href=\"#references\">References</a>\n",
    "\n",
    "</ul>"
   ]
  }
 ],
 "metadata": {},
 "nbformat": 4,
 "nbformat_minor": 4
}
